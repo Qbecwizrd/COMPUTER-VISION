{
  "nbformat": 4,
  "nbformat_minor": 0,
  "metadata": {
    "colab": {
      "provenance": []
    },
    "kernelspec": {
      "name": "python3",
      "display_name": "Python 3"
    },
    "language_info": {
      "name": "python"
    }
  },
  "cells": [
    {
      "cell_type": "code",
      "execution_count": 1,
      "metadata": {
        "colab": {
          "base_uri": "https://localhost:8080/"
        },
        "id": "dd1o_TLoUh_y",
        "outputId": "91433b46-a2f6-4dee-c964-8af21e4c7bc9"
      },
      "outputs": [
        {
          "output_type": "stream",
          "name": "stdout",
          "text": [
            "Mounted at /content/drive\n"
          ]
        }
      ],
      "source": [
        "from google.colab import drive\n",
        "drive.mount('/content/drive')"
      ]
    },
    {
      "cell_type": "code",
      "source": [
        "#to check the mounting is proper\n",
        "\n",
        "import os\n",
        "\n",
        "drive_path='/content/drive/MyDrive'\n",
        "files=os.listdir(drive_path)\n",
        "\n",
        "print(files)\n"
      ],
      "metadata": {
        "colab": {
          "base_uri": "https://localhost:8080/"
        },
        "id": "9kz2BW11Unn0",
        "outputId": "66fbb224-419a-46a7-fe7f-2513caff218b"
      },
      "execution_count": 2,
      "outputs": [
        {
          "output_type": "stream",
          "name": "stdout",
          "text": [
            "['Colab Notebooks', 'LORS OTHER ACCOUNT UPDATED 4 2.gdoc', 'CHAPTER 4.gdoc', 'abstractform_241122_105154.pdf', 'abstractform_241122_105154.gdoc', 'Major Project Abstract Form AC10 NEQW.docx', 'NEURAL NETWORKS AND DEEP LEARNING UNIT 5.gdoc', 'COMPILER DESIGN UNIT 4.gdoc', 'UNIT 4 CNS.gdoc', 'UNIT 5 CNS.gdoc', 'SOP Form (44).doc', 'AC01_MINIPROJ_V1.gdoc', 'AC10_REDO MASTER (1)_edited (1).gdoc', 'AC10_REDO MASTER (1)_edited.gdoc', 'AC10_Final.pptx', 'AC10_REDO MASTER_hello.gdoc', 'NEURAL NETWORKS AND DEEP LEARNING UNIT 4.gdoc', 'SOP Form (44).docx', 'Modern Computer Vision', 'MyDataSet', 'IRMAI']\n"
          ]
        }
      ]
    },
    {
      "cell_type": "code",
      "source": [
        "image_folder_path='/content/drive/MyDrive/MyDataSet/'\n",
        "\n",
        "class_folder_path=os.path.join(image_folder_path,'Class1')\n",
        "file_inside=os.listdir(\n",
        "    class_folder_path\n",
        ")"
      ],
      "metadata": {
        "id": "wqkcb8y5UuYl"
      },
      "execution_count": 3,
      "outputs": []
    },
    {
      "cell_type": "code",
      "source": [
        "import cv2\n",
        "import numpy as np\n",
        "import matplotlib.pyplot as plt"
      ],
      "metadata": {
        "id": "aKWvxBRSUuo5"
      },
      "execution_count": 4,
      "outputs": []
    },
    {
      "cell_type": "code",
      "source": [
        "image_path='/content/drive/MyDrive/MyDataSet/Class1/nature1.jpg'\n",
        "image=cv2.imread(image_path)"
      ],
      "metadata": {
        "id": "8I2wM21YUwFl"
      },
      "execution_count": 5,
      "outputs": []
    },
    {
      "cell_type": "code",
      "source": [
        "  #to know the shape of the image\n",
        "import numpy as np\n",
        "\n",
        "image_shape=image.shape\n",
        "print(image_shape)"
      ],
      "metadata": {
        "colab": {
          "base_uri": "https://localhost:8080/"
        },
        "id": "dx6aQhMpU0i9",
        "outputId": "a9aad0d1-7bb2-4791-e0c2-1d0409eff12a"
      },
      "execution_count": 7,
      "outputs": [
        {
          "output_type": "stream",
          "name": "stdout",
          "text": [
            "(2304, 3456, 3)\n"
          ]
        }
      ]
    },
    {
      "cell_type": "code",
      "source": [
        "print('Height of Image: {} pixels'.format(int(image.shape[0])))\n",
        "print('Width of Image: {} pixels'.format(int(image.shape[1])))\n",
        "print('Depth of Image: {} colors components'.format(int(image.shape[2])))"
      ],
      "metadata": {
        "colab": {
          "base_uri": "https://localhost:8080/"
        },
        "id": "SDPMrwLvVrG7",
        "outputId": "65984c40-5647-4163-a218-fe7b6e79c5cf"
      },
      "execution_count": 8,
      "outputs": [
        {
          "output_type": "stream",
          "name": "stdout",
          "text": [
            "Height of Image: 2304 pixels\n",
            "Width of Image: 3456 pixels\n",
            "Depth of Image: 3 colors components\n"
          ]
        }
      ]
    },
    {
      "cell_type": "code",
      "source": [],
      "metadata": {
        "id": "NpC57SyRVu_n"
      },
      "execution_count": null,
      "outputs": []
    }
  ]
}